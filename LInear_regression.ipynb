{
 "cells": [
  {
   "cell_type": "code",
   "execution_count": 8,
   "metadata": {
    "collapsed": true
   },
   "outputs": [],
   "source": [
    "#ASSIGNMENT 3 ON MACHINE LEARNING: \n",
    "#This is a Linear Regression algorithmn on Boston data set created on 23/12/17 Saurav Rai\n",
    "from sklearn.datasets import load_boston\n",
    "import numpy as np\n",
    "from scipy.io import loadmat\n",
    "from sklearn.model_selection import train_test_split\n",
    "from sklearn.metrics import mean_squared_error\n",
    "\n",
    "\n",
    "#the boston variable is a dictionary\n",
    "boston = load_boston()\n",
    "\n",
    "# Now we have the boston data and target\n",
    "# The boston.target is a 1D numpy array of target attribute values\n",
    "# The boston.data is a 2D numpy array of attribute values\n",
    "\n",
    "X_data=boston.data\n",
    "Y_target=boston.target\n"
   ]
  },
  {
   "cell_type": "code",
   "execution_count": 9,
   "metadata": {
    "collapsed": true
   },
   "outputs": [],
   "source": [
    "#Handling bias term:\n",
    "X_data=np.insert(X_data,0,1,axis=1)\n",
    "\n",
    "#Now divide the X data into the test and train sets:\n",
    "X_data_train,X_data_test, Y_data_train,Y_data_test =train_test_split(X_data , Y_target, test_size =0.33, random_state=42)\n"
   ]
  },
  {
   "cell_type": "code",
   "execution_count": 10,
   "metadata": {
    "collapsed": true
   },
   "outputs": [],
   "source": [
    "theta = np.ones(X_data[0].shape)\n",
    "old_theta = theta * 999"
   ]
  },
  {
   "cell_type": "code",
   "execution_count": 11,
   "metadata": {
    "collapsed": true
   },
   "outputs": [],
   "source": [
    "#Gradient descent method is used as our optimization algorithmn\n",
    "def gradient_descent(X,y,theta,old_theta,alpha):\n",
    "    m=y.size\n",
    "    while (np.linalg.norm( old_theta - theta,ord=2)) >= 0.000001:\n",
    "        # the norm is printed as to see the convergence of our optimization algorithmn\n",
    "        #print 'norm',np.linalg.norm(theta - old_theta,ord=2)\n",
    "        hypothesis=X.dot(theta)\n",
    "        old_theta=theta\n",
    "        loss = hypothesis-y\n",
    "        gradient = X.T.dot(loss)/m\n",
    "    \n",
    "        theta = old_theta - alpha * gradient\n",
    "    return theta    "
   ]
  },
  {
   "cell_type": "code",
   "execution_count": 12,
   "metadata": {},
   "outputs": [],
   "source": [
    "optimum_theta= gradient_descent(X_data_train, Y_data_train, theta,old_theta,0.000001)"
   ]
  },
  {
   "cell_type": "code",
   "execution_count": 13,
   "metadata": {
    "collapsed": true
   },
   "outputs": [],
   "source": [
    "y_pred = X_data_test.dot(optimum_theta)\n"
   ]
  },
  {
   "cell_type": "code",
   "execution_count": 14,
   "metadata": {},
   "outputs": [],
   "source": [
    "mse = mean_squared_error(y_pred,Y_data_test)\n"
   ]
  },
  {
   "cell_type": "code",
   "execution_count": 15,
   "metadata": {},
   "outputs": [
    {
     "name": "stdout",
     "output_type": "stream",
     "text": [
      "the mean squared error\n"
     ]
    },
    {
     "data": {
      "text/plain": [
       "25.675054976287818"
      ]
     },
     "execution_count": 15,
     "metadata": {},
     "output_type": "execute_result"
    }
   ],
   "source": [
    "print('the mean squared error')\n",
    "mse\n",
    "\n"
   ]
  },
  {
   "cell_type": "code",
   "execution_count": null,
   "metadata": {
    "collapsed": true
   },
   "outputs": [],
   "source": []
  },
  {
   "cell_type": "code",
   "execution_count": null,
   "metadata": {
    "collapsed": true
   },
   "outputs": [],
   "source": []
  },
  {
   "cell_type": "code",
   "execution_count": null,
   "metadata": {
    "collapsed": true
   },
   "outputs": [],
   "source": []
  },
  {
   "cell_type": "code",
   "execution_count": null,
   "metadata": {
    "collapsed": true
   },
   "outputs": [],
   "source": []
  },
  {
   "cell_type": "code",
   "execution_count": null,
   "metadata": {
    "collapsed": true
   },
   "outputs": [],
   "source": []
  }
 ],
 "metadata": {
  "kernelspec": {
   "display_name": "Python 2",
   "language": "python",
   "name": "python2"
  },
  "language_info": {
   "codemirror_mode": {
    "name": "ipython",
    "version": 2
   },
   "file_extension": ".py",
   "mimetype": "text/x-python",
   "name": "python",
   "nbconvert_exporter": "python",
   "pygments_lexer": "ipython2",
   "version": "2.7.14"
  }
 },
 "nbformat": 4,
 "nbformat_minor": 2
}
