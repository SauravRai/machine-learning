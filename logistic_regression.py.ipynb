{
 "cells": [
  {
   "cell_type": "markdown",
   "metadata": {},
   "source": [
    "ASSIGNMENT 1(a):\n",
    "SAURAV RAI \n",
    "REGD NO:17558\n",
    "In this code, we show how logistic regression can be used to recognize\n",
    "    whether a digit is zero or not."
   ]
  },
  {
   "cell_type": "code",
   "execution_count": 14,
   "metadata": {
    "collapsed": true
   },
   "outputs": [],
   "source": [
    "import numpy as np\n",
    "from scipy.io import loadmat"
   ]
  },
  {
   "cell_type": "markdown",
   "metadata": {},
   "source": [
    "Loading the datas"
   ]
  },
  {
   "cell_type": "code",
   "execution_count": 15,
   "metadata": {
    "collapsed": true
   },
   "outputs": [],
   "source": [
    "X = loadmat('TrainImages.mat')\n",
    "X = X['trainData']\n",
    "\n",
    "Y = loadmat('TrainLabels.mat')\n",
    "Y=Y['trainLabels']\n",
    "\n",
    "X_test = loadmat('TestImages.mat')\n",
    "X_test = X_test['testData']\n",
    "\n",
    "Y_test = loadmat('TestLabels.mat')\n",
    "Y_test = Y_test['testLabels']\n"
   ]
  },
  {
   "cell_type": "markdown",
   "metadata": {},
   "source": [
    "This is used for handling bias\n"
   ]
  },
  {
   "cell_type": "code",
   "execution_count": 3,
   "metadata": {
    "collapsed": true
   },
   "outputs": [],
   "source": [
    "X=np.insert(X,0,1,axis=1)\n",
    "X_test=np.insert(X_test,0,1,axis=1)"
   ]
  },
  {
   "cell_type": "markdown",
   "metadata": {},
   "source": [
    "Here we have initialized theta to some random value depending the size of our data set\n"
   ]
  },
  {
   "cell_type": "code",
   "execution_count": 40,
   "metadata": {
    "collapsed": true
   },
   "outputs": [],
   "source": [
    "theta = np.random.rand(784,1)\n",
    "theta_old = theta * np.inf"
   ]
  },
  {
   "cell_type": "markdown",
   "metadata": {},
   "source": [
    "The hypothesis function:"
   ]
  },
  {
   "cell_type": "code",
   "execution_count": 41,
   "metadata": {
    "collapsed": true
   },
   "outputs": [],
   "source": [
    "def hypothesis_class(X,theta):\n",
    "    return 1/(1+np.exp(-np.matmul(X,theta)))"
   ]
  },
  {
   "cell_type": "markdown",
   "metadata": {},
   "source": [
    "The derivative function:"
   ]
  },
  {
   "cell_type": "code",
   "execution_count": 42,
   "metadata": {
    "collapsed": true
   },
   "outputs": [],
   "source": [
    "def derivative(X,theta,Y):\n",
    "   hypo=hypothesis_class(X,theta)\n",
    "   return np.matmul(X.T,hypo-Y)\n"
   ]
  },
  {
   "cell_type": "markdown",
   "metadata": {},
   "source": [
    "Gradient descent method is used as our optimization algorithmn"
   ]
  },
  {
   "cell_type": "code",
   "execution_count": null,
   "metadata": {
    "collapsed": true
   },
   "outputs": [],
   "source": [
    "while np.linalg.norm(theta-theta_old ) >= 400:\n",
    "    print np.linalg.norm(theta-theta_old )\n",
    "    theta_old=theta\n",
    "    deri=derivative(X,theta,Y)\n",
    "    theta = theta_old - 0.01 * deri"
   ]
  },
  {
   "cell_type": "markdown",
   "metadata": {},
   "source": [
    "This is used for finding the optimum theta value"
   ]
  },
  {
   "cell_type": "code",
   "execution_count": null,
   "metadata": {
    "collapsed": true
   },
   "outputs": [],
   "source": [
    "predictions = hypothesis_class(X_test,theta)\n",
    "\n",
    "for i in range(predictions.size):\n",
    "    if( predictions[i] >= 0.5):\n",
    "        predictions[i] = 1\n",
    "    else:\n",
    "        predictions[i] = 0"
   ]
  },
  {
   "cell_type": "code",
   "execution_count": 45,
   "metadata": {
    "collapsed": true
   },
   "outputs": [],
   "source": [
    "count = 0\n",
    "\n",
    "for i in range(predictions.size):\n",
    "    if(predictions[i] == Y_test[i]):\n",
    "        count = count +1\n",
    "    else:\n",
    "        count = count"
   ]
  },
  {
   "cell_type": "markdown",
   "metadata": {
    "collapsed": true
   },
   "source": [
    "FINDING THE ACCURACY OF THE LOGISTIC REGRESSION"
   ]
  },
  {
   "cell_type": "code",
   "execution_count": 46,
   "metadata": {},
   "outputs": [
    {
     "name": "stdout",
     "output_type": "stream",
     "text": [
      "The accuracy for this problem is  0.972\n"
     ]
    }
   ],
   "source": [
    "accuracy=float(count) / Y_test.size\n",
    "print 'The accuracy for this problem is ' ,accuracy"
   ]
  },
  {
   "cell_type": "code",
   "execution_count": null,
   "metadata": {
    "collapsed": true
   },
   "outputs": [],
   "source": []
  }
 ],
 "metadata": {
  "kernelspec": {
   "display_name": "Python 2",
   "language": "python",
   "name": "python2"
  },
  "language_info": {
   "codemirror_mode": {
    "name": "ipython",
    "version": 2
   },
   "file_extension": ".py",
   "mimetype": "text/x-python",
   "name": "python",
   "nbconvert_exporter": "python",
   "pygments_lexer": "ipython2",
   "version": "2.7.14"
  }
 },
 "nbformat": 4,
 "nbformat_minor": 2
}
